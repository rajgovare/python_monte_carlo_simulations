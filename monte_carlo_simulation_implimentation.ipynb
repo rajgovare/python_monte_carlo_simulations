{
  "cells": [
    {
      "cell_type": "markdown",
      "source": [
        "# **Monte Carlo Simulation**"
      ],
      "metadata": {
        "id": "Vv7eo-IBNFTa"
      },
      "id": "Vv7eo-IBNFTa"
    },
    {
      "cell_type": "markdown",
      "source": [
        "Monte Carlo simulation is a powerful computational technique used to model the probability of different outcomes in processes that involve randomness. By running thousands or even millions of simulations with random inputs, it allows us to estimate the likelihood of various results and better understand the impact of uncertainty in complex systems. This method is widely used in fields such as finance, engineering, science, and project management to make informed decisions based on statistical analysis of simulated data."
      ],
      "metadata": {
        "id": "hwgfXDpfNAb2"
      },
      "id": "hwgfXDpfNAb2"
    },
    {
      "cell_type": "code",
      "source": [
        "import numpy as np\n",
        "agg_score = []\n",
        "for i in range(0,100000):\n",
        "    shot =[]\n",
        "    for j in range(100):\n",
        "        r = np.random.random()\n",
        "        if(r<=0.7):\n",
        "            shot.append(1)\n",
        "        else:\n",
        "            shot.append(0)\n",
        "    if(sum(shot)>=70):\n",
        "        agg_score.append(1)\n",
        "    else:\n",
        "        agg_score.append(0)\n",
        "print(np.average(agg_score));"
      ],
      "metadata": {
        "colab": {
          "base_uri": "https://localhost:8080/"
        },
        "id": "Tt4R_ReoKmFI",
        "outputId": "7915e4fc-f75d-4505-9951-1a6b7c3b57b1"
      },
      "id": "Tt4R_ReoKmFI",
      "execution_count": 1,
      "outputs": [
        {
          "output_type": "stream",
          "name": "stdout",
          "text": [
            "0.55123\n"
          ]
        }
      ]
    },
    {
      "cell_type": "code",
      "execution_count": 4,
      "id": "e789a81d",
      "metadata": {
        "id": "e789a81d",
        "colab": {
          "base_uri": "https://localhost:8080/"
        },
        "outputId": "781c11a5-b84a-4f5f-c651-03b6d7ed34c2"
      },
      "outputs": [
        {
          "output_type": "stream",
          "name": "stdout",
          "text": [
            "Average win probability after  10000 simulations:  0.16653569999999973\n",
            "Average ending balance after  10000 simulations: $ 832.6785\n"
          ]
        }
      ],
      "source": [
        "# Importing Packages\n",
        "import random\n",
        "\n",
        "# Creating Roll Dice Function\n",
        "def roll_dice():\n",
        "    die_1 = random.randint(1, 6)\n",
        "    die_2 = random.randint(1, 6)\n",
        "\n",
        "    # Determining if the dice are the same number\n",
        "    if die_1 == die_2:\n",
        "        same_num = True\n",
        "    else:\n",
        "        same_num = False\n",
        "    return same_num\n",
        "\n",
        "\n",
        "# Inputs\n",
        "num_simulations = 10000\n",
        "max_num_rolls = 1000\n",
        "bet = 1\n",
        "\n",
        "# Tracking\n",
        "win_probability = []\n",
        "end_balance = []\n",
        "\n",
        "# For loop to run for the number of simulations desired\n",
        "for i in range(num_simulations):\n",
        "    balance = [1000]\n",
        "    num_rolls = [0]\n",
        "    num_wins = 0\n",
        "    # Run until the player has rolled 1,000 times\n",
        "    while num_rolls[-1] < max_num_rolls:\n",
        "        same = roll_dice()\n",
        "        # Result if the dice are the same number\n",
        "        if same:\n",
        "            balance.append(balance[-1] + 4 * bet)\n",
        "            num_wins += 1\n",
        "        # Result if the dice are different numbers\n",
        "        else:\n",
        "            balance.append(balance[-1] - bet)\n",
        "\n",
        "        num_rolls.append(num_rolls[-1] + 1)\n",
        "# Store tracking variables and add line to figure\n",
        "    win_probability.append(num_wins/num_rolls[-1])\n",
        "    end_balance.append(balance[-1])\n",
        "\n",
        "\n",
        "# Averaging win probability and end balance\n",
        "overall_win_probability = sum(win_probability)/len(win_probability)\n",
        "overall_end_balance = sum(end_balance)/len(end_balance)\n",
        "# Displaying the averages\n",
        "print(\"Average win probability after \",num_simulations,\"simulations: \",overall_win_probability)\n",
        "print(\"Average ending balance after \",num_simulations,\"simulations: $\",overall_end_balance)"
      ]
    }
  ],
  "metadata": {
    "kernelspec": {
      "display_name": "Python 3",
      "language": "python",
      "name": "python3"
    },
    "language_info": {
      "codemirror_mode": {
        "name": "ipython",
        "version": 3
      },
      "file_extension": ".py",
      "mimetype": "text/x-python",
      "name": "python",
      "nbconvert_exporter": "python",
      "pygments_lexer": "ipython3",
      "version": "3.8.8"
    },
    "colab": {
      "provenance": []
    }
  },
  "nbformat": 4,
  "nbformat_minor": 5
}